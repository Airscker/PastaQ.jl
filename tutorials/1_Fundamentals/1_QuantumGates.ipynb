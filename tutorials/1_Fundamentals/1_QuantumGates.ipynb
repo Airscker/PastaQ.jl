{
 "cells": [
  {
   "cell_type": "markdown",
   "metadata": {},
   "source": [
    "# Tutorial 1: Quantum Gates"
   ]
  },
  {
   "cell_type": "markdown",
   "metadata": {},
   "source": [
    "In this tutorial, we show the default quantum gates provided in PastaQ."
   ]
  },
  {
   "cell_type": "code",
   "execution_count": 1,
   "metadata": {},
   "outputs": [],
   "source": [
    "include(\"../../src/PastaQ.jl\");"
   ]
  },
  {
   "cell_type": "code",
   "execution_count": 2,
   "metadata": {},
   "outputs": [],
   "source": [
    "using Main.PastaQ\n",
    "using ITensors"
   ]
  },
  {
   "cell_type": "markdown",
   "metadata": {},
   "source": [
    "## Single-qubit gates"
   ]
  },
  {
   "cell_type": "markdown",
   "metadata": {},
   "source": [
    "First, we need to initialize the state of the qubits. The default initializer sets the state to\n",
    "\n",
    "$$ |\\psi\\rangle = |0\\,0\\,0\\,\\dots\\rangle $$"
   ]
  },
  {
   "cell_type": "code",
   "execution_count": 23,
   "metadata": {},
   "outputs": [
    {
     "name": "stdout",
     "output_type": "stream",
     "text": [
      "psi[1] = ITensor ord=1\n",
      "Dim 1: (dim=2|id=450|\"Site,n=1\")\n",
      "NDTensors.Dense{Float64,Array{Float64,1}}\n",
      " 2-element\n",
      " 1.0\n",
      " 0.0\n"
     ]
    }
   ],
   "source": [
    "N = 1\n",
    "psi = InitializeQubits(N);\n",
    "@show psi[1];"
   ]
  },
  {
   "cell_type": "markdown",
   "metadata": {},
   "source": [
    "Since there is only one qubit, the state is simply a 1-leg tensor of dimension $d=2$."
   ]
  },
  {
   "cell_type": "markdown",
   "metadata": {},
   "source": [
    "### Pauli-X gate\n",
    "\n",
    "$$ \n",
    "\\hat{X} = \\begin{pmatrix}0 & 1\\\\1 & 0 \\end{pmatrix}\n",
    "$$"
   ]
  },
  {
   "cell_type": "code",
   "execution_count": 14,
   "metadata": {},
   "outputs": [
    {
     "name": "stdout",
     "output_type": "stream",
     "text": [
      "psi[1] = ITensor ord=1\n",
      "Dim 1: (dim=2|id=324|\"Site,n=1\")'\n",
      "NDTensors.Dense{Float64,Array{Float64,1}}\n",
      " 2-element\n",
      " 0.0\n",
      " 1.0\n"
     ]
    }
   ],
   "source": [
    "psi = InitializeQubits(1);\n",
    "ApplyGate!(psi,\"X\",1);\n",
    "@show psi[1];"
   ]
  },
  {
   "cell_type": "markdown",
   "metadata": {},
   "source": [
    "### Pauli-Y gate\n",
    "\n",
    "$$ \n",
    "\\hat{Y} = \\begin{pmatrix}0 & -i\\\\i & 0 \\end{pmatrix}\n",
    "$$"
   ]
  },
  {
   "cell_type": "code",
   "execution_count": 25,
   "metadata": {},
   "outputs": [
    {
     "name": "stdout",
     "output_type": "stream",
     "text": [
      "psi[1] = ITensor ord=1\n",
      "Dim 1: (dim=2|id=785|\"Site,n=1\")'\n",
      "NDTensors.Dense{Complex{Float64},Array{Complex{Float64},1}}\n",
      " 2-element\n",
      " 0.0 + 0.0im\n",
      " 0.0 + 1.0im\n",
      "psi[1] = ITensor ord=1\n",
      "Dim 1: (dim=2|id=955|\"Site,n=1\")''\n",
      "NDTensors.Dense{Complex{Float64},Array{Complex{Float64},1}}\n",
      " 2-element\n",
      " 0.0 - 1.0im\n",
      " 0.0 + 0.0im\n"
     ]
    }
   ],
   "source": [
    "psi = InitializeQubits(1);\n",
    "ApplyGate!(psi,\"Y\",1);\n",
    "@show psi[1];\n",
    "psi = InitializeQubits(1);\n",
    "ApplyGate!(psi,\"X\",1);\n",
    "ApplyGate!(psi,\"Y\",1);\n",
    "@show psi[1];"
   ]
  },
  {
   "cell_type": "markdown",
   "metadata": {},
   "source": [
    "### Pauli-Z gate\n",
    "\n",
    "$$ \n",
    "\\hat{Z} = \\begin{pmatrix}1 & 0\\\\0 & -1 \\end{pmatrix}\n",
    "$$"
   ]
  },
  {
   "cell_type": "code",
   "execution_count": 27,
   "metadata": {},
   "outputs": [
    {
     "name": "stdout",
     "output_type": "stream",
     "text": [
      "psi[1] = ITensor ord=1\n",
      "Dim 1: (dim=2|id=573|\"Site,n=1\")'\n",
      "NDTensors.Dense{Float64,Array{Float64,1}}\n",
      " 2-element\n",
      " 1.0\n",
      " 0.0\n",
      "psi[1] = ITensor ord=1\n",
      "Dim 1: (dim=2|id=753|\"Site,n=1\")''\n",
      "NDTensors.Dense{Float64,Array{Float64,1}}\n",
      " 2-element\n",
      "  0.0\n",
      " -1.0\n"
     ]
    }
   ],
   "source": [
    "psi = InitializeQubits(1);\n",
    "ApplyGate!(psi,\"Z\",1);\n",
    "@show psi[1];\n",
    "psi = InitializeQubits(1);\n",
    "ApplyGate!(psi,\"X\",1);\n",
    "ApplyGate!(psi,\"Z\",1);\n",
    "@show psi[1];"
   ]
  },
  {
   "cell_type": "markdown",
   "metadata": {},
   "source": [
    "### Hadamard\n",
    "\n",
    "$$ \n",
    "\\hat{H} = \\frac{1}{\\sqrt{2}}\\begin{pmatrix}1 & 1\\\\1 & -1 \\end{pmatrix}\n",
    "$$"
   ]
  },
  {
   "cell_type": "code",
   "execution_count": 28,
   "metadata": {},
   "outputs": [
    {
     "name": "stdout",
     "output_type": "stream",
     "text": [
      "psi[1] = ITensor ord=1\n",
      "Dim 1: (dim=2|id=127|\"Site,n=1\")'\n",
      "NDTensors.Dense{Float64,Array{Float64,1}}\n",
      " 2-element\n",
      " 0.7071067811865475\n",
      " 0.7071067811865475\n",
      "psi[1] = ITensor ord=1\n",
      "Dim 1: (dim=2|id=509|\"Site,n=1\")''\n",
      "NDTensors.Dense{Float64,Array{Float64,1}}\n",
      " 2-element\n",
      "  0.7071067811865475\n",
      " -0.7071067811865475\n"
     ]
    }
   ],
   "source": [
    "psi = InitializeQubits(1);\n",
    "ApplyGate!(psi,\"H\",1);\n",
    "@show psi[1];\n",
    "psi = InitializeQubits(1);\n",
    "ApplyGate!(psi,\"X\",1);\n",
    "ApplyGate!(psi,\"H\",1);\n",
    "@show psi[1];"
   ]
  },
  {
   "cell_type": "markdown",
   "metadata": {},
   "source": [
    "### S gate\n",
    "\n",
    "$$ \n",
    "\\hat{S} = \\begin{pmatrix}1 & 0\\\\0 & i \\end{pmatrix}\n",
    "$$"
   ]
  },
  {
   "cell_type": "code",
   "execution_count": 29,
   "metadata": {},
   "outputs": [
    {
     "name": "stdout",
     "output_type": "stream",
     "text": [
      "psi[1] = ITensor ord=1\n",
      "Dim 1: (dim=2|id=602|\"Site,n=1\")'\n",
      "NDTensors.Dense{Complex{Float64},Array{Complex{Float64},1}}\n",
      " 2-element\n",
      " 1.0 + 0.0im\n",
      " 0.0 + 0.0im\n",
      "psi[1] = ITensor ord=1\n",
      "Dim 1: (dim=2|id=612|\"Site,n=1\")''\n",
      "NDTensors.Dense{Complex{Float64},Array{Complex{Float64},1}}\n",
      " 2-element\n",
      " 0.0 + 0.0im\n",
      " 0.0 + 1.0im\n"
     ]
    }
   ],
   "source": [
    "psi = InitializeQubits(1);\n",
    "ApplyGate!(psi,\"S\",1);\n",
    "@show psi[1];\n",
    "psi = InitializeQubits(1);\n",
    "ApplyGate!(psi,\"X\",1);\n",
    "ApplyGate!(psi,\"S\",1);\n",
    "@show psi[1];"
   ]
  },
  {
   "cell_type": "markdown",
   "metadata": {},
   "source": [
    "### T gate\n",
    "\n",
    "$$ \n",
    "\\hat{S} = \\begin{pmatrix}1 & 0\\\\0 & e^{i\\pi/4} \\end{pmatrix}\n",
    "$$"
   ]
  },
  {
   "cell_type": "code",
   "execution_count": 31,
   "metadata": {},
   "outputs": [
    {
     "name": "stdout",
     "output_type": "stream",
     "text": [
      "psi[1] = ITensor ord=1\n",
      "Dim 1: (dim=2|id=9|\"Site,n=1\")'\n",
      "NDTensors.Dense{Complex{Float64},Array{Complex{Float64},1}}\n",
      " 2-element\n",
      " 1.0 + 0.0im\n",
      " 0.0 + 0.0im\n",
      "psi[1] = ITensor ord=1\n",
      "Dim 1: (dim=2|id=723|\"Site,n=1\")''\n",
      "NDTensors.Dense{Complex{Float64},Array{Complex{Float64},1}}\n",
      " 2-element\n",
      "                0.0 + 0.0im\n",
      " 0.7071067811865476 + 0.7071067811865475im\n"
     ]
    }
   ],
   "source": [
    "psi = InitializeQubits(1);\n",
    "ApplyGate!(psi,\"T\",1);\n",
    "@show psi[1];\n",
    "psi = InitializeQubits(1);\n",
    "ApplyGate!(psi,\"X\",1);\n",
    "ApplyGate!(psi,\"T\",1);\n",
    "@show psi[1];"
   ]
  },
  {
   "cell_type": "markdown",
   "metadata": {},
   "source": [
    "## Single-qubit rotations"
   ]
  },
  {
   "cell_type": "markdown",
   "metadata": {},
   "source": [
    "### Rotation around X axis\n",
    "\n",
    "$$ \n",
    "\\hat{R}_X(\\theta) = \\begin{pmatrix}\\cos\\theta/2 & -i\\sin\\theta/2\\\\\n",
    "                                    -i\\sin\\theta/2 & \\cos\\theta/2 \\end{pmatrix}\n",
    "$$"
   ]
  },
  {
   "cell_type": "code",
   "execution_count": 38,
   "metadata": {},
   "outputs": [
    {
     "name": "stdout",
     "output_type": "stream",
     "text": [
      "psi[1] = ITensor ord=1\n",
      "Dim 1: (dim=2|id=876|\"Site,n=1\")'\n",
      "NDTensors.Dense{Complex{Float64},Array{Complex{Float64},1}}\n",
      " 2-element\n",
      " 0.9689124217106447 + 0.0im\n",
      "                0.0 - 0.24740395925452294im\n"
     ]
    }
   ],
   "source": [
    "θ = 0.5\n",
    "psi = InitializeQubits(1);\n",
    "ApplyGate!(psi,\"Rx\",1,angles=θ);\n",
    "@show psi[1];"
   ]
  },
  {
   "cell_type": "markdown",
   "metadata": {},
   "source": [
    "### Rotation around Y axis\n",
    "\n",
    "$$ \n",
    "\\hat{R}_Y(\\theta) = \\begin{pmatrix}\\cos\\theta/2 & -\\sin\\theta/2\\\\\n",
    "                                    \\sin\\theta/2 & \\cos\\theta/2 \\end{pmatrix}\n",
    "$$"
   ]
  },
  {
   "cell_type": "code",
   "execution_count": 39,
   "metadata": {},
   "outputs": [
    {
     "name": "stdout",
     "output_type": "stream",
     "text": [
      "psi[1] = ITensor ord=1\n",
      "Dim 1: (dim=2|id=70|\"Site,n=1\")'\n",
      "NDTensors.Dense{Float64,Array{Float64,1}}\n",
      " 2-element\n",
      " 0.9689124217106447\n",
      " 0.24740395925452294\n"
     ]
    }
   ],
   "source": [
    "θ = 0.5\n",
    "psi = InitializeQubits(1);\n",
    "ApplyGate!(psi,\"Ry\",1,angles=θ);\n",
    "@show psi[1];"
   ]
  },
  {
   "cell_type": "markdown",
   "metadata": {},
   "source": [
    "### Rotation around Z axis\n",
    "\n",
    "$$ \n",
    "\\hat{R}_Z(\\phi) = \\begin{pmatrix}e^{-i\\phi/2} & 0\\\\\n",
    "                                    0 & e^{i\\phi/2} \\end{pmatrix}\n",
    "$$"
   ]
  },
  {
   "cell_type": "code",
   "execution_count": 40,
   "metadata": {},
   "outputs": [
    {
     "name": "stdout",
     "output_type": "stream",
     "text": [
      "psi[1] = ITensor ord=1\n",
      "Dim 1: (dim=2|id=546|\"Site,n=1\")'\n",
      "NDTensors.Dense{Complex{Float64},Array{Complex{Float64},1}}\n",
      " 2-element\n",
      " 0.9689124217106447 - 0.24740395925452294im\n",
      "                0.0 + 0.0im\n"
     ]
    }
   ],
   "source": [
    "θ = 0.5\n",
    "psi = InitializeQubits(1);\n",
    "ApplyGate!(psi,\"Rz\",1,angles=θ);\n",
    "@show psi[1];"
   ]
  }
 ],
 "metadata": {
  "kernelspec": {
   "display_name": "Julia 1.4.1",
   "language": "julia",
   "name": "julia-1.4"
  },
  "language_info": {
   "file_extension": ".jl",
   "mimetype": "application/julia",
   "name": "julia",
   "version": "1.4.1"
  }
 },
 "nbformat": 4,
 "nbformat_minor": 4
}
